{
 "cells": [
  {
   "cell_type": "markdown",
   "metadata": {},
   "source": [
    "# 자음 모음 count!!\n",
    "\n",
    "> 반복문과 조건문만 활용하여 사용자가 입력한 영어 단어의 자음과 모음을 세는 로직을 작성하세요.\n",
    "\n",
    "---\n",
    "\n",
    "```\n",
    "예시 입력)\n",
    "student\n",
    "\n",
    "예시 출력)\n",
    "vowels = 2\n",
    "consonants = 5\n",
    "```"
   ]
  },
  {
   "cell_type": "code",
   "execution_count": 2,
   "metadata": {},
   "outputs": [
    {
     "name": "stdout",
     "output_type": "stream",
     "text": [
      "입력하세요 :student\n",
      "vowels = 2\n",
      "consonants = 5\n"
     ]
    }
   ],
   "source": [
    "word = input(\"입력하세요 :\")\n",
    "moeum = ['a', 'e', 'i', 'o', 'u']\n",
    "vowels = 0\n",
    "consonants = 0\n",
    "for i in word:\n",
    "    if i in moeum:\n",
    "        vowels += 1\n",
    "    else:\n",
    "        consonants += 1\n",
    "print(f\"vowels = {vowels}\")\n",
    "print(f\"consonants = {consonants}\")"
   ]
  },
  {
   "cell_type": "code",
   "execution_count": 17,
   "metadata": {},
   "outputs": [
    {
     "name": "stdout",
     "output_type": "stream",
     "text": [
      "영어단어를 입력하세요kimchi\n",
      "vowels = 2\n",
      "consonants = 4\n"
     ]
    }
   ],
   "source": [
    "#선생님풀이\n",
    "\n",
    "words = input('영어단어를 입력하세요')\n",
    "vowels = 0\n",
    "consonants = 0\n",
    "\n",
    "for word in words:\n",
    "    if word in 'aeiou':\n",
    "        vowels += 1\n",
    "    else:\n",
    "        consonants += 1\n",
    "print(f\"vowels = {vowels}\")\n",
    "print(f\"consonants = {consonants}\")"
   ]
  },
  {
   "cell_type": "markdown",
   "metadata": {},
   "source": [
    "# 상승장? 하락장?\n",
    "\n",
    "> 최고가와 최저가의 차이를 변동폭으로 정의할 때 (시가 + 변동폭)이 최고가 보다 높을 경우 \"상승장\", 그렇지 않은 경우 \"하락장\" 문자열을 출력하라.\n",
    "\n",
    "|Key Name|Description|\n",
    "|------|---|\n",
    "|opeing_price|최근 24시간 내 시작 거래금액|\n",
    "|closing_price|최근 24시간 내 마지막 거래금액|\n",
    "|min_price|최근 24시간 내 최저 거래금액|\n",
    "|max_price|최근 24시간 내 최고 거래금액|"
   ]
  },
  {
   "cell_type": "code",
   "execution_count": 3,
   "metadata": {},
   "outputs": [
    {
     "name": "stdout",
     "output_type": "stream",
     "text": [
      "{'opening_price': '11138000', 'closing_price': '11662000', 'min_price': '10870000', 'max_price': '12000000', 'average_price': '11477104.9468', 'units_traded': '17155.58733931', 'volume_1day': '17155.58733931', 'volume_7day': '96202.29077911', 'buy_price': '11662000', 'sell_price': '11674000', '24H_fluctate': '524000', '24H_fluctate_rate': '4.70', 'date': '1563417476532'}\n"
     ]
    }
   ],
   "source": [
    "import requests\n",
    "\n",
    "url = \"https://api.bithumb.com/public/ticker/btc\"\n",
    "data = requests.get(url).json()['data']\n",
    "print(data)"
   ]
  },
  {
   "cell_type": "code",
   "execution_count": 7,
   "metadata": {},
   "outputs": [
    {
     "name": "stdout",
     "output_type": "stream",
     "text": [
      "상승장\n"
     ]
    }
   ],
   "source": [
    "op = int(data.get('opening_price'))\n",
    "\n",
    "mxp = int(data.get('max_price'))\n",
    "mnp = int(data.get('min_price'))\n",
    "\n",
    "bp = mxp-mnp\n",
    "if op + bp > mxp:\n",
    "    print(\"상승장\")\n",
    "else:\n",
    "    print(\"하락장\")"
   ]
  },
  {
   "cell_type": "code",
   "execution_count": 19,
   "metadata": {},
   "outputs": [
    {
     "name": "stdout",
     "output_type": "stream",
     "text": [
      "상승장\n"
     ]
    }
   ],
   "source": [
    "maximum = float(data['max_price'])\n",
    "minimum = float(data['min_price'])\n",
    "\n",
    "coin_range = maximum - minimum\n",
    "start_price = float(data['opening_price'])\n",
    "\n",
    "if start_price + coin_range > maximum:\n",
    "    print('상승장')\n",
    "else:\n",
    "    print('하락장')"
   ]
  },
  {
   "cell_type": "markdown",
   "metadata": {},
   "source": [
    "# 모음 제거하기\n",
    "\n",
    "> 다음 문장의 모음을 제거하여 출력하세요.\n",
    "\n",
    "```\n",
    "예시 입력)\n",
    "\"Life is too short, you need python\"\n",
    "예시 출력)\n",
    "Lf s t shrt, y nd pythn\n",
    "```"
   ]
  },
  {
   "cell_type": "code",
   "execution_count": 10,
   "metadata": {},
   "outputs": [
    {
     "name": "stdout",
     "output_type": "stream",
     "text": [
      "Lif is t shrt, y nd pythn"
     ]
    }
   ],
   "source": [
    "my_str = \"Life is too short, you need python\"\n",
    "\n",
    "\n",
    "for i in list(my_str):\n",
    "    if i in ['a', 'e', 'e', 'o', 'u']:\n",
    "        i = ''\n",
    "    print(i, end='')"
   ]
  },
  {
   "cell_type": "code",
   "execution_count": 20,
   "metadata": {},
   "outputs": [
    {
     "name": "stdout",
     "output_type": "stream",
     "text": [
      "Lif is t shrt, y nd pythn\n"
     ]
    }
   ],
   "source": [
    "#선생님 풀이\n",
    "my_str = \"Life is too short, you need python\"\n",
    "vowels = ['a', 'e', 'e', 'o', 'u']\n",
    "\n",
    "for vowel in vowels:\n",
    "    my_str = my_str.replace(vowel, '')\n",
    "print(my_str)"
   ]
  },
  {
   "cell_type": "markdown",
   "metadata": {},
   "source": [
    "# 개인정보보호\n",
    "> 사용자의 핸드폰번호를 입력 받으려고한다. 개인정보 보호를 위하여 뒷자리 4자리를 제외하고는 마스킹 처리를 하려고한다.\n",
    ">\n",
    "> 핸드폰번호는 010으로 시작해야하고 11자리여야한다. 핸드폰번호를 입력하지 않았다면 \"핸드폰번호를 입력하세요\"를 출력한다\n",
    "\n",
    "```\n",
    "예시 입력)\n",
    "01012341234\n",
    "예시 출력)\n",
    "*******1234\n",
    "```"
   ]
  },
  {
   "cell_type": "code",
   "execution_count": 18,
   "metadata": {},
   "outputs": [
    {
     "name": "stdout",
     "output_type": "stream",
     "text": [
      "01053148300\n",
      "*******8300\n"
     ]
    }
   ],
   "source": [
    "phone = input()\n",
    "if (phone[0:3] !='010') or (len(phone) != 11):\n",
    "    print(\"핸드폰번호를 입력하세요\")\n",
    "else:\n",
    "    print(f'*******{phone[7:]}')"
   ]
  },
  {
   "cell_type": "code",
   "execution_count": null,
   "metadata": {},
   "outputs": [],
   "source": [
    "phone = input() #문자는 indexing과  slicing이 가능하다.\n",
    "if phone[0:3] == '010' and len(phone) == 11:\n",
    "    result = '*'*7 + phone[-4:]\n",
    "    print(result)\n",
    "else:\n",
    "    print(\"휴대폰번호를 입력 해 주세요\")"
   ]
  },
  {
   "cell_type": "markdown",
   "metadata": {},
   "source": [
    "# 정중앙\n",
    "> 사용자가 입력한 문자열중 가운데 글자를 출력하라. 문자열이 짝수라면 가운데 두글자를 출력하라\n",
    "\n",
    "```\n",
    "예시 입력)\n",
    "apple \n",
    "예시 출력)\n",
    "p\n",
    "\n",
    "예시 입력)\n",
    "levele\n",
    "예시 출력)\n",
    "ve\n",
    "```"
   ]
  },
  {
   "cell_type": "code",
   "execution_count": null,
   "metadata": {},
   "outputs": [],
   "source": [
    "text = input()\n",
    "num = len(text) // 2 \n",
    "\n",
    "#홀수\n",
    "if len(text) % 2:\n",
    "    middle = text[num]\n",
    "#짝수\n",
    "else:\n",
    "    middle = text[num-1:num+1]\n",
    "print(middle)"
   ]
  }
 ],
 "metadata": {
  "kernelspec": {
   "display_name": "Python 3",
   "language": "python",
   "name": "python3"
  },
  "language_info": {
   "codemirror_mode": {
    "name": "ipython",
    "version": 3
   },
   "file_extension": ".py",
   "mimetype": "text/x-python",
   "name": "python",
   "nbconvert_exporter": "python",
   "pygments_lexer": "ipython3",
   "version": "3.7.4"
  }
 },
 "nbformat": 4,
 "nbformat_minor": 2
}
