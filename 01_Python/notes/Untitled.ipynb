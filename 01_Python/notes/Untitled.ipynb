{
 "cells": [
  {
   "cell_type": "code",
   "execution_count": 60,
   "metadata": {},
   "outputs": [
    {
     "name": "stdout",
     "output_type": "stream",
     "text": [
      "{'A', 'AB', 'B', 'O'}\n",
      "3\n",
      "3\n",
      "3\n",
      "3\n",
      "{'A': 3, 'AB': 3, 'B': 3, 'O': 3}\n"
     ]
    }
   ],
   "source": [
    "blood_types = ['A', 'B', 'A', 'O', 'AB', 'AB', 'O', 'A', 'B', 'O', 'B', 'AB']\n",
    "value = {}\n",
    "B_types = set(blood_types)\n",
    "print(B_types)\n",
    "\n",
    "for i in list(B_types):\n",
    "    count = blood_types.count(i)\n",
    "    print(count)\n",
    "    value[i] = count\n",
    "\n",
    "print(value)\n",
    "\n"
   ]
  }
 ],
 "metadata": {
  "kernelspec": {
   "display_name": "Python 3",
   "language": "python",
   "name": "python3"
  },
  "language_info": {
   "codemirror_mode": {
    "name": "ipython",
    "version": 3
   },
   "file_extension": ".py",
   "mimetype": "text/x-python",
   "name": "python",
   "nbconvert_exporter": "python",
   "pygments_lexer": "ipython3",
   "version": "3.7.4"
  }
 },
 "nbformat": 4,
 "nbformat_minor": 2
}
